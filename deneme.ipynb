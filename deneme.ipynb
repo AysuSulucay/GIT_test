{
 "cells": [
  {
   "cell_type": "markdown",
   "metadata": {},
   "source": [
    "Prepared for testing.\n",
    "added basic python code."
   ]
  },
  {
   "cell_type": "code",
   "execution_count": 5,
   "metadata": {},
   "outputs": [
    {
     "name": "stdout",
     "output_type": "stream",
     "text": [
      " HelloHelloHello\n",
      " Can you hear me?\n"
     ]
    }
   ],
   "source": [
    "print(\" HelloHelloHello\\n Can you hear me?\")"
   ]
  }
 ],
 "metadata": {
  "interpreter": {
   "hash": "57daf0e7925a08c2421bfe092dc8989119762427ab1df34fe452f42291843529"
  },
  "kernelspec": {
   "display_name": "Python 3.8.3 32-bit",
   "language": "python",
   "name": "python3"
  },
  "language_info": {
   "codemirror_mode": {
    "name": "ipython",
    "version": 3
   },
   "file_extension": ".py",
   "mimetype": "text/x-python",
   "name": "python",
   "nbconvert_exporter": "python",
   "pygments_lexer": "ipython3",
   "version": "3.8.3"
  },
  "orig_nbformat": 4
 },
 "nbformat": 4,
 "nbformat_minor": 2
}
